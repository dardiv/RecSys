{
 "cells": [
  {
   "cell_type": "code",
   "execution_count": 48,
   "metadata": {},
   "outputs": [],
   "source": [
    "import io\n",
    "from surprise import KNNWithMeans\n",
    "from surprise import Dataset\n",
    "from surprise import get_dataset_dir\n",
    "from collections import defaultdict\n",
    "from json import dumps\n",
    "\n",
    "min_films = 5\n",
    "knn = 4"
   ]
  },
  {
   "cell_type": "code",
   "execution_count": 49,
   "metadata": {},
   "outputs": [],
   "source": [
    "def get_info():\n",
    "    file_name = get_dataset_dir() + '/ml-100k/ml-100k/u.item'\n",
    "    info = {}\n",
    "    with io.open(file_name, 'r', encoding='ISO-8859-1') as file:\n",
    "        for line in file:\n",
    "            line = line.split('|')\n",
    "            info[line[0]] = (line[1], line[2])\n",
    "    return info"
   ]
  },
  {
   "cell_type": "code",
   "execution_count": 50,
   "metadata": {},
   "outputs": [],
   "source": [
    "def rnk_surprise(usr):\n",
    "    data = Dataset.load_builtin('ml-100k')\n",
    "    trainset = data.build_full_trainset()\n",
    "\n",
    "    sim_options = {'name': 'cosine', 'user_based': True, 'min_support': min_films}\n",
    "    algo = KNNWithMeans(k = knn, min_k = knn, sim_options = sim_options)\n",
    "    algo.fit(trainset)\n",
    "\n",
    "    testset = trainset.build_anti_testset()\n",
    "    testset = filter(lambda x: x[0] == usr, testset)\n",
    "    predictions = algo.test(testset)\n",
    "    top_n = defaultdict(list)\n",
    "\n",
    "    for uid, iid, _, est, _ in predictions:\n",
    "        top_n[uid].append((iid, round(est, 3)))\n",
    "\n",
    "    for uid, user_rnk in top_n.items():\n",
    "        user_rnk.sort(key=lambda x: x[1], reverse=True)\n",
    "        top_n[uid] = user_rnk[:min_films]\n",
    "\n",
    "    info = get_info()\n",
    "    \n",
    "    recommend = {}\n",
    "    row_format = \"{:^10} {:<70} {:^1}\"\n",
    "    \n",
    "    print(\"User \" + str(usr))\n",
    "    for film_rid, rnk in top_n[usr]:\n",
    "        print(row_format.format(film_rid, str(info[film_rid]), rnk))\n",
    "        recommend[film_rid] = (str(info[film_rid]), rnk)\n",
    "    output = {\n",
    "        \"user\": \"User \" + usr,\n",
    "        1: recommend,\n",
    "    }\n",
    "    \n",
    "    file_name = \"user\" + usr + \"_surprise.json\"\n",
    "    json_file = open(file_name,'w')\n",
    "    json_file.write(dumps(output))\n",
    "    json_file.close()"
   ]
  },
  {
   "cell_type": "code",
   "execution_count": 51,
   "metadata": {},
   "outputs": [
    {
     "name": "stdout",
     "output_type": "stream",
     "text": [
      "Enter user id: 1\n",
      "Computing the cosine similarity matrix...\n",
      "Done computing similarity matrix.\n",
      "User 1\n",
      "   302     ('L.A. Confidential (1997)', '01-Jan-1997')                            4.953\n",
      "   902     ('Big Lebowski, The (1998)', '26-Dec-1997')                            4.87\n",
      "   1367    ('Faust (1994)', '01-Jan-1994')                                        4.761\n",
      "   516     ('Local Hero (1983)', '01-Jan-1983')                                   4.76\n",
      "   1449    ('Pather Panchali (1955)', '22-Mar-1996')                              4.736\n"
     ]
    }
   ],
   "source": [
    "usr = input(\"Enter user id: \")\n",
    "rnk_surprise(usr)"
   ]
  },
  {
   "cell_type": "code",
   "execution_count": null,
   "metadata": {},
   "outputs": [],
   "source": []
  },
  {
   "cell_type": "code",
   "execution_count": null,
   "metadata": {},
   "outputs": [],
   "source": []
  }
 ],
 "metadata": {
  "kernelspec": {
   "display_name": "Python 3",
   "language": "python",
   "name": "python3"
  },
  "language_info": {
   "codemirror_mode": {
    "name": "ipython",
    "version": 3
   },
   "file_extension": ".py",
   "mimetype": "text/x-python",
   "name": "python",
   "nbconvert_exporter": "python",
   "pygments_lexer": "ipython3",
   "version": "3.7.3"
  }
 },
 "nbformat": 4,
 "nbformat_minor": 2
}

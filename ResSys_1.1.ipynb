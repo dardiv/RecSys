{
 "cells": [
  {
   "cell_type": "code",
   "execution_count": 9,
   "metadata": {},
   "outputs": [],
   "source": [
    "from csv import reader\n",
    "from math import sqrt\n",
    "from json import dumps\n",
    "\n",
    "\n",
    "def sim(u, users):  # метрика сходства\n",
    "    sim_dict = {}\n",
    "    for v in range(len(users)):\n",
    "        if u != users[v]:\n",
    "            num = 0\n",
    "            denom1 = 0\n",
    "            denom2 = 0\n",
    "            for i in range(len(u)):\n",
    "                if u[i] != -1 and users[v][i] != -1:\n",
    "                    num += u[i] * users[v][i]\n",
    "                    denom1 += u[i] ** 2\n",
    "                    denom2 += users[v][i] ** 2\n",
    "            sim_dict[v] = round(num / (sqrt(denom1) * sqrt(denom2)), 3)\n",
    "    sims = sorted(sim_dict.items(), key=lambda x: x[1], reverse=True)  # выводим результат в виде tuple (ключ, значение), упордоченного по убыванию значения\n",
    "    return sims\n",
    "\n",
    "\n",
    "def avg_rnk(u):  # средняя оценка пользователя\n",
    "    avg = 0\n",
    "    cnt = 0\n",
    "    for i in range(len(u)):\n",
    "        if u[i] != -1:\n",
    "            avg += u[i]\n",
    "            cnt += 1\n",
    "    return round(avg / cnt, 3)"
   ]
  },
  {
   "cell_type": "code",
   "execution_count": 10,
   "metadata": {},
   "outputs": [],
   "source": [
    "def r_ui(u, data, i, sims, knn):  # рассчет оценки фильма i для пользователя u\n",
    "    num = 0\n",
    "    denom = 0\n",
    "    cnt = 0\n",
    "    r_u = avg_rnk(u)\n",
    "    for v in sims:\n",
    "        if cnt != knn and data[v[0]][i] != -1:\n",
    "            r_v = avg_rnk(data[v[0]])\n",
    "            num += v[1] * (data[v[0]][i] - r_v)\n",
    "            denom += abs(v[1])\n",
    "        elif cnt == knn:\n",
    "            break\n",
    "        cnt += 1\n",
    "    return round(r_u + num / denom, 3)"
   ]
  },
  {
   "cell_type": "code",
   "execution_count": 11,
   "metadata": {},
   "outputs": [],
   "source": [
    "def compute_rnk(usr_id, data, context_place, context_day, knn):  # вычисление всех недостающий оценок пользоватея u, создание рекомендаций\n",
    "    new_rnk = {}\n",
    "    recommend = {}\n",
    "    u = data[int(usr_id) - 1]\n",
    "    sims = sim(u, data)\n",
    "    for i in range(len(u)):\n",
    "        if u[i] == -1:\n",
    "            new_rnk[\"Movie \" + str(i + 1)] = r_ui(u, data, i, sims, knn)\n",
    "    for v in sims:\n",
    "        if recommend:\n",
    "            break\n",
    "        for i in range(len(data[v[0]])):\n",
    "                \"\"\"\n",
    "                Рекомендуем пользователю u фильм i, который смотрел самый схожый (по метрике)\n",
    "                с ним пользователь дома в выходной день и который поставил этому фильму оценку\n",
    "                выше, чем его средняя оценка просмотренных фильмов. Также выводим оценку,которую бы поставил\n",
    "                пользователь u этому фильму.\n",
    "                \"\"\"\n",
    "                if u[i] == -1 and data[v[0]][i] != -1 and (\n",
    "                        context_day[v[0]][i] == \" Sat\" or context_day[v[0]][i] == \" Sun\") \\\n",
    "                        and context_place[v[0]][i] == \" h\" and data[v[0]][i] > avg_rnk(data[v[0]]):\n",
    "                    recommend[\"Movie \" + str(i + 1)] = new_rnk[\"Movie \" + str(i + 1)]\n",
    "                    break\n",
    "   \n",
    "    output = {\n",
    "        \"user\": \"User \" + usr_id,\n",
    "        1: new_rnk,\n",
    "        2: recommend\n",
    "    }\n",
    "    print(output)\n",
    "\n",
    "    file_name = \"user\" + str(usr_id) + \".json\"\n",
    "    json_dump = open(file_name, 'w')\n",
    "    json_dump.write(dumps(output))\n",
    "    json_dump.close()"
   ]
  },
  {
   "cell_type": "code",
   "execution_count": 12,
   "metadata": {},
   "outputs": [],
   "source": [
    "def read_file(path):  # читаем содержимое файла и записывам его в лист\n",
    "    with open(path, \"r\") as f_obj:\n",
    "        rdr = reader(f_obj)\n",
    "        next(rdr)\n",
    "        return [[item for item in row[1:]] for row in rdr]"
   ]
  },
  {
   "cell_type": "code",
   "execution_count": 13,
   "metadata": {},
   "outputs": [
    {
     "name": "stdout",
     "output_type": "stream",
     "text": [
      "Enter user id: 1\n",
      "{'user': 'User 1', 1: {'Movie 1': 3.967, 'Movie 5': 2.712, 'Movie 6': 3.093, 'Movie 7': 3.714, 'Movie 10': 2.227, 'Movie 17': 1.458, 'Movie 23': 2.712, 'Movie 24': 2.974, 'Movie 27': 3.095}, 2: {'Movie 5': 2.712}}\n"
     ]
    }
   ],
   "source": [
    "data = []\n",
    "for i in read_file(\"data.csv\"):\n",
    "    data.append(list(map(int, i)))\n",
    "place = read_file(\"context_place.csv\")\n",
    "day = read_file(\"context_day.csv\")\n",
    "\n",
    "usr = 0\n",
    "\n",
    "while int(usr) < 1 or int(usr) > 40:\n",
    "    usr = input(\"Enter user id: \")\n",
    "    if int(usr) < 1 or int(usr) > 40:\n",
    "        print(\"Incorrect id!\")\n",
    "\n",
    "compute_rnk(usr, data, place, day, 4)"
   ]
  },
  {
   "cell_type": "code",
   "execution_count": null,
   "metadata": {},
   "outputs": [],
   "source": []
  }
 ],
 "metadata": {
  "kernelspec": {
   "display_name": "Python 3",
   "language": "python",
   "name": "python3"
  },
  "language_info": {
   "codemirror_mode": {
    "name": "ipython",
    "version": 3
   },
   "file_extension": ".py",
   "mimetype": "text/x-python",
   "name": "python",
   "nbconvert_exporter": "python",
   "pygments_lexer": "ipython3",
   "version": "3.7.3"
  }
 },
 "nbformat": 4,
 "nbformat_minor": 2
}
